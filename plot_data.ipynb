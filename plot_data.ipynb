{
  "nbformat": 4,
  "nbformat_minor": 0,
  "metadata": {
    "colab": {
      "provenance": [],
      "authorship_tag": "ABX9TyNJr0pfpGU/emsuT/fZzkgZ",
      "include_colab_link": true
    },
    "kernelspec": {
      "name": "python3",
      "display_name": "Python 3"
    },
    "language_info": {
      "name": "python"
    }
  },
  "cells": [
    {
      "cell_type": "markdown",
      "metadata": {
        "id": "view-in-github",
        "colab_type": "text"
      },
      "source": [
        "<a href=\"https://colab.research.google.com/github/yotam-biu/tutorial7/blob/main/plot_data.ipynb\" target=\"_parent\"><img src=\"https://colab.research.google.com/assets/colab-badge.svg\" alt=\"Open In Colab\"/></a>"
      ]
    },
    {
      "cell_type": "code",
      "source": [
        "# Import libraries\n",
        "import matplotlib.pyplot as plt\n",
        "import seaborn as sns\n",
        "from sklearn.datasets import fetch_openml"
      ],
      "metadata": {
        "id": "WC3coPylmeLB"
      },
      "execution_count": 72,
      "outputs": []
    },
    {
      "cell_type": "markdown",
      "source": [
        "# Step 1: Select a Dataset\n",
        "\n",
        "Choose a dataset from `sklearn`. You can use datasets such as the Iris dataset, Boston housing dataset, or any other dataset available in `sklearn.datasets`.\n"
      ],
      "metadata": {
        "id": "NxzTJSiGmZTf"
      }
    },
    {
      "cell_type": "markdown",
      "source": [
        "### 1. Iris Dataset\n",
        "**Description**: A classic dataset containing measurements of 150 iris flowers from three species (Setosa, Versicolor, Virginica). Features include sepal and petal length and width.  \n",
        "`fetch_openml(name='iris', version=1, as_frame=True)`\n",
        "\n",
        "---\n",
        "\n",
        "### 2. Wine Dataset\n",
        "**Description**: Chemical analysis results for 178 wines from three cultivars. Features include alcohol content, color intensity, and magnesium levels.  \n",
        "`fetch_openml(name='wine', version=1, as_frame=True)`\n",
        "\n",
        "---\n",
        "\n",
        "### 3. Breast Cancer Dataset\n",
        "**Description**: Features derived from a digitized image of a fine needle aspirate of a breast mass. Used for binary classification (malignant or benign).  \n",
        "`fetch_openml(name='breast_cancer', version=1, as_frame=True)`\n",
        "\n",
        "---\n",
        "\n",
        "### 4. Diabetes Dataset\n",
        "**Description**: Contains 10 baseline variables for 442 diabetes patients. The target is a quantitative measure of disease progression one year after baseline.  \n",
        "`fetch_openml(name='diabetes', version=1, as_frame=True)`\n",
        "\n",
        "---\n",
        "\n",
        "### 5. Boston Housing Dataset (Deprecated)\n",
        "**Description**: Features related to housing in Boston, such as crime rate, property tax, and age of homes, with median home prices as the target.  \n",
        "`fetch_openml(name='boston', version=1, as_frame=True)`\n",
        "\n",
        "---\n",
        "\n",
        "### 6. California Housing Dataset\n",
        "**Description**: Features related to housing in California, including median income, average rooms, and population. Target is the median house value.  \n",
        "`fetch_openml(name='california_housing', version=1, as_frame=True)`\n",
        "\n",
        "---\n",
        "\n",
        "### 7. Linnerud Dataset\n",
        "**Description**: A small dataset of physical exercise data. Contains features related to exercise (e.g., weight lifted) and target variables related to physiological responses (e.g., pulse rate).  \n",
        "`fetch_openml(name='linnerud', version=1, as_frame=True)`\n"
      ],
      "metadata": {
        "id": "ElVqJ1p3X6EH"
      }
    },
    {
      "cell_type": "code",
      "source": [
        "data = fetch_openml(name='diabetes', version=1, as_frame=True)"
      ],
      "metadata": {
        "id": "UsDhQpyTmicr"
      },
      "execution_count": null,
      "outputs": []
    },
    {
      "cell_type": "markdown",
      "source": [
        "# Step 2: Inspect the Data\n",
        "\n",
        "Once you have selected your dataset, use the following commands to explore the data:\n",
        "\n",
        "- `data.DESCR`: View the description of the dataset to understand its context.\n",
        "- `df.sample(5)`: Display a random sample of 5 rows from the dataset to get a sense of the data.\n",
        "- `df.describe()`: Generate summary statistics for the dataset, including count, mean, standard deviation, min, and max values.\n",
        "- `df.dtypes`: Check the data types of the features to ensure they are appropriate for analysis.\n"
      ],
      "metadata": {
        "id": "A4rl7jo-ihbg"
      }
    },
    {
      "cell_type": "code",
      "source": [
        "print(data.DESCR)"
      ],
      "metadata": {
        "id": "f5A1DwNdmwCR"
      },
      "execution_count": 74,
      "outputs": []
    },
    {
      "cell_type": "code",
      "source": [
        "df = data.frame\n",
        "\n",
        "df.sample(5)"
      ],
      "metadata": {
        "id": "ji4AaCAwm1Sw"
      },
      "execution_count": null,
      "outputs": []
    },
    {
      "cell_type": "code",
      "source": [
        "df.describe()"
      ],
      "metadata": {
        "id": "yCU0pm4Um6e8"
      },
      "execution_count": null,
      "outputs": []
    },
    {
      "cell_type": "code",
      "source": [
        "df.dtypes"
      ],
      "metadata": {
        "id": "WE0q-0jBm8P7"
      },
      "execution_count": null,
      "outputs": []
    },
    {
      "cell_type": "markdown",
      "source": [
        "---\n",
        "\n",
        "# Step 3: Select 5 Features\n",
        "\n",
        "After inspecting the dataset, choose 5 features that you find interesting and want to analyze further. You can access the list of feature names using `df.columns`.\n",
        "\n",
        "Create a list of your selected features. For example:\n",
        "\n",
        "```python\n",
        "features = df.columns\n",
        "selected_features = [features[0], features[2], features[4], features[6], features[7]]\n",
        "```\n",
        "\n",
        "Feel free to choose any 5 features based on the dataset you are working with.\n",
        "\n",
        "\n",
        "\n",
        "\n",
        "\n",
        "\n"
      ],
      "metadata": {
        "id": "dvmWV5tJo6vt"
      }
    },
    {
      "cell_type": "code",
      "source": [
        "features = list(df.columns)\n",
        "print(\"Available features:\", features)\n",
        "selected_features = [features[0], features[2]]\n",
        "print(\"Selected features: \", selected_features)"
      ],
      "metadata": {
        "id": "4Qyv3IILX5J4",
        "colab": {
          "base_uri": "https://localhost:8080/"
        },
        "outputId": "33606661-a242-4705-cba2-f8ffc9623066"
      },
      "execution_count": 80,
      "outputs": [
        {
          "output_type": "stream",
          "name": "stdout",
          "text": [
            "Available features: ['preg', 'plas', 'pres', 'skin', 'insu', 'mass', 'pedi', 'age', 'class']\n",
            "Selected features:  ['preg', 'pres']\n"
          ]
        }
      ]
    },
    {
      "cell_type": "markdown",
      "source": [
        "# Step 4: Make Histogram Plots\n",
        "\n",
        "For each of the selected features, create a histogram to visualize the distribution of the data. You can use `plt.hist()` or `plt.bar()` to create the plots.\n",
        "\n",
        "Notice: The `.hist(bins=5)` function creates the histogram with 5 bins, but you can adjust this based on the dataset.\n",
        "\n"
      ],
      "metadata": {
        "id": "3cLLY-_iij7l"
      }
    },
    {
      "cell_type": "code",
      "source": [
        "fig, axs  = plt.subplots(1, len(selected_features), figsize = (20,3))\n",
        "\n",
        "for ax, f in zip(axs, selected_features):\n",
        "    ax.hist(df[f], bins=5, color='skyblue', edgecolor='black')\n",
        "    ax.set_xlabel(f)"
      ],
      "metadata": {
        "id": "ZbUGSv_DoWH5"
      },
      "execution_count": null,
      "outputs": []
    },
    {
      "cell_type": "markdown",
      "source": [
        "# Step 5: Select One Feature and Test Correlation\n",
        "\n",
        "Choose one of the selected features and test its correlation with other features using scatter plots. A scatter plot will help you visualize the relationship between two continuous variables and observe any patterns.\n",
        "\n",
        "- For example, you might choose the first feature and plot it against each of the other selected features.\n",
        "- Analyze the plots to identify any trends, such as a linear or non-linear relationship between the features.\n",
        "- Look for clusters, outliers, or patterns that may indicate a strong correlation or lack thereof between the features.\n",
        "\n"
      ],
      "metadata": {
        "id": "zE5MOeWrmMqc"
      }
    },
    {
      "cell_type": "code",
      "execution_count": 41,
      "metadata": {
        "colab": {
          "base_uri": "https://localhost:8080/",
          "height": 311
        },
        "id": "Uwqi8xUOWl0W",
        "outputId": "7bb6d6af-1d41-4b27-d3b0-e4f799f0c584"
      },
      "outputs": [
        {
          "output_type": "display_data",
          "data": {
            "text/plain": [
              "<Figure size 2000x300 with 6 Axes>"
            ],
            "image/png": "[encoded data removed]"
          },
          "metadata": {}
        }
      ],
      "source": [
        "reference_feature = selected_features[1]\n",
        "y = df[reference_feature]\n",
        "\n",
        "fig, axs  = plt.subplots(1, len(selected_features), figsize = (20,3))\n",
        "\n",
        "for ax, f in zip(axs, features):\n",
        "  ax.scatter(df[f], y)\n",
        "  ax.set_xlabel(f)\n",
        "\n",
        "plt.show()\n"
      ]
    },
    {
      "cell_type": "markdown",
      "source": [
        "# Step 6: Choose a Single Correlation Plot and Save It\n",
        "\n",
        "From the scatter plots, choose one feature pair that shows an interesting or strong relationship. This could be a pair that exhibits a clear trend, a non-linear pattern, or an unexpected result.\n",
        "\n",
        "- Save the selected correlation plot as an image file using `plt.savefig('correlation_plot.png')`.\n",
        "- Analyze the result by commenting on the correlation you observed. Discuss whether the relationship appears linear or non-linear, and if any patterns are evident. Consider the implications of the correlation for your data analysis and further exploration.\n",
        "\n",
        "Ensure the saved image captures the key insights from the correlation analysis.\n"
      ],
      "metadata": {
        "id": "agV1VctcplF3"
      }
    },
    {
      "cell_type": "code",
      "source": [
        "\n",
        "reference_feature = selected_features[0]  # The reference feature\n",
        "comparison_feature = selected_features[1]  # A feature to compare to\n",
        "\n",
        "# Create a scatter plot for the selected pair\n",
        "plt.figure(figsize=(8, 6))\n",
        "plt.scatter(df[reference_feature], df[comparison_feature], alpha=0.6)\n",
        "plt.xlabel(reference_feature)\n",
        "plt.ylabel(comparison_feature)\n",
        "\n",
        "# Save the plot as an image file\n",
        "plt.savefig('correlation_plot.png')\n",
        "\n",
        "plt.show()\n"
      ],
      "metadata": {
        "id": "0fXDOlfFplel"
      },
      "execution_count": null,
      "outputs": []
    }
  ]
}